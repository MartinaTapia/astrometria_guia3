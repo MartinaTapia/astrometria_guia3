{
 "cells": [
  {
   "cell_type": "markdown",
   "metadata": {},
   "source": [
    "# UNIVERSIDAD NACIONAL DE CÓRDOBA#\n",
    "## Fa.M.A.F – Observatorio Astronómico ##\n",
    "### Licenciatura en Astronomía ###\n",
    "### Tapia Martina ###\n",
    "### Astrometría 2020 ###\n",
    "## Práctico N° 3: Bases  de  Datos ##"
   ]
  },
  {
   "cell_type": "markdown",
   "metadata": {},
   "source": [
    "## Introducción ##\n",
    "\n",
    "Debido a que las nuevas tecnologías aportan cantidades significativas de datos, se hace imperiosa la necesidad de almacenar los mismos de manera que su acceso sea eficiente y útil. En general, la información de grandes relevamientos, simulaciones numéricas, etc. está organizada en Bases de Datos. El paradigma más utilizado para organizar bases de datos es el de *Base de Datos Relacional*. En este tipo de modelo la información se organiza en tablas, que se relacionan entre sí a partir de una propiedad de los datos. Cada tabla es un conjunto de registros. Existen programas o sistemas de gestión de bases de datos relacionales. Entre los más conocidos, se destacan por ejemplo MySQL, PostgreSQL, Oracle y Microsoft SQL Server.   \n",
    "El **objetivo** de este trabajo es lograr una familiarización con el manejo de las bases de datos, pudiendo extraer información, procesar y analizar la misma con diferentes métodos y principios de probabilidad y estadística. \n",
    "\n",
    "## Conceptos básicos ## \n",
    "Algunas definiciones importantes para el desarrollo de las actividades de este práctico son: \n",
    "\n",
    "- **Base de datos:** Conjunto de datos pertenecientes a un mismo contexto y almacenados sistemáticamente para su registro.\n",
    "- **Tabla:** Es un conjunto de datos con ciertas características en común.\n",
    "- **Registro:** Es un objeto único de datos implícitamente estructurados en una tabla. Corresponde a una fila en las tablas.\n",
    "- **Campo:** Es la mínima unidad de información a la que se puede acceder. Corresponde a una columna de una tabla.\n",
    "- **Relación Vínculo entre los campos de distintas tablas:** La información está organizada en tablas, pero se puede reunir usando vínculos.\n",
    "\n",
    "### SQL: Structured Query Languaje ###\n",
    "\n",
    "SQL (en español: lenguaje de consulta estructurada) es un lenguaje de dominio específico utilizado en programación, diseñado para administrar, y recuperar información de sistemas de gestión de bases de datos relacionales. Una de sus principales características es el manejo del álgebra y el cálculo relacional para efectuar consultas con el fin de recuperar, de forma sencilla, información de bases de datos, así como realizar cambios en ellas.\n",
    "\n",
    "Originalmente basado en el álgebra relacional y en el cálculo relacional, SQL consiste en un lenguaje de definición de datos, un lenguaje de manipulación de datos y un lenguaje de control de datos. El alcance de SQL incluye la inserción de datos, consultas, actualizaciones y borrado, la creación y modificación de esquemas y el control de acceso a los datos. \n",
    "\n",
    "El SQL es uno de los lenguajes más utilizados para manipular y acceder a bases de datos. Para extraer información de una base de datos se requiere la parte de manipulación de datos, cuyas instrucciones principales son:\n",
    "\n",
    "- **SELECT, FROM, INSERT INTO, WHERE**\n",
    "- Un **query** básico de SQL tiene la siguiente forma:\n",
    "```\n",
    "SELECT nombre(s)_de_columna(s)\n",
    "FROM nombre_de_la_tabla\n",
    "WHERE nombre_columna operador valor\n",
    "```\n",
    "donde \"operador” puede ser AND, OR, >, <, ==, !=.\n",
    "\n",
    "### SDSS: Sloan Digital Sky Survey ###\n",
    "\n",
    "El *SDSS* es un proyecto de investigación del espacio mediante imágenes en el espectro visible y de corrimiento al rojo, realizada en un telescopio específico de ángulo amplio y de 2,5 metros situado en el observatorio Apache Point de Nuevo México y comenzada en 2000.\n",
    "\n",
    "El nombre proviene de la fundación Alfred P. Sloan, y pretende cartografiar una cuarta parte del cielo visible, obtener observaciones acerca de 100 millones de objetos y el espectro de un millón de objetos.\n",
    "\n",
    "En el año 2006 la exploración entró en una nueva fase, el SDSS-II, extendiendo las observaciones para explorar la estructura y la composición estelar de la Vía Láctea mediante los proyectos SEGUE (sigla del inglés Sloan Extension for Galactic Understanding and Exploration) y Búsqueda de Supernovas Sloan (en inglés Sloan Supernova Survey), el cual busca eventos supernova Ia para medir la distancia de objetos lejanos.\n",
    "\n",
    "En lo que sigue se eligió un catálogo de galaxias de la base de datos SDSS como caso de estudio para trabajar con bases de datos en observatorios virtuales. \n",
    "Para realizar el trabajo se utilizó el *SDSS CasJobs*:  un lugar de trabajo en línea para grandes catálogos científicos, diseñado para emular y mejorar el acceso a consultas locales de forma libre en un entorno web.\n",
    "\n",
    "Algunas características de esta aplicación incluyen:\n",
    "\n",
    "- Ejecución de consultas sincrónicas y asincrónicas, en forma de trabajos \"rápidos\" y \"largos\".\n",
    "- Una consulta 'Historial' que registra las consultas y su estado.\n",
    "- Una base de datos de usuario personalizada del lado del servidor, denominada 'MyDB', que permite la creación de Tablas/funciones/procedimientos persistentes.\n",
    "- Intercambio de datos entre usuarios, a través del mecanismo \"Grupos\".\n",
    "- Descarga de datos, a través de la extracción de tablas MyDB, en varios formatos.\n",
    "- Múltiples opciones de interfaz, incluido un cliente de navegador, así como una herramienta de línea de comandos basada en java.\n"
   ]
  },
  {
   "cell_type": "markdown",
   "metadata": {},
   "source": [
    "## Procedimiento ##\n",
    "\n",
    "### Primeros pasos ###  \n",
    "\n",
    "Para poder llevar a cabo las actividades de estudio y análisis, antes se realiazaron varios pasos; primero se ingresó al sitio de CasJobs: http://skyservice.pha.jhu.edu/casjobs/default.aspx y se creó una cuenta de ususario. Luego, se estudio el sitio web de manera de identificar los elementos principales de la base de datos: tablas, campos y registros. Además, se exploró la estructura de la base de datos usando Skyserver → Schema Browser. A continuación, en la pestaña Query, se ingresó a \"Sample SQL queries”, y se elegió algunos ejemplos para ejecutar y analizar el resultado que se obtenia en cada caso. También, con la ayuda de los ejemplos presentados en 'Sample SQL queries' se pudo comprender el uso de las instrucciones \"select”, \"from”, \"into”, \"where” y \"join” y el uso de \"alias”. \n",
    "\n",
    "### Obtención de la Tabla de datos ###  \n",
    "\n",
    "Una vez explorado y analizado los ejemplos del sitio web CasJobs, se procedió a obtener una lista de galaxias con las siguientes propiedades:\n",
    "- clasificación: elíptica/espiral\n",
    "- magnitudes Petrosian en las bandas u, g, y r\n",
    "- redshift\n",
    "\n",
    "La lista de galaxias se obtuvo con el siguiente *query*: \n",
    "```\n",
    "SELECT TOP 1000\n",
    "  s.specObjID, g.spiral, g.elliptical, s.petroMag_u, s.petroMag_r, s.petroMag_g, s.z \n",
    "FROM SpecPhoto AS s\n",
    "   JOIN zooSpec  AS g  ON  g.specobjid = s.specObjID\n",
    "WHERE \n",
    "     ((g.spiral = 1) or (g.elliptical = 1))\n",
    "```\n",
    "Notar que se colocó 'TOP 1000' para limitar la cantidad de datos de la tabla. Otra posibilidad de limitar la cantidad de datos es usar condiciones particulares con 'WHERE'. En este caso, sólo se le pide que muestre las galaxias elipticas y espirales y no cualquier otro tipo morfológico de galaxias. Pero también es posible limitar el rango de magnitudes de cada banda y los valores de redshift. \n",
    "\n",
    "### Importación de datos al Notebook###\n",
    "\n",
    "Una vez descargada la tabla de datos desde CasJobs, se procedió a colocarla en el mismo directorio de trabajo donde se creó el notebook de actividades.  \n",
    "Una vez iniciado el notebook lo que se hizo fue importar la tabla de datos con la función 'genfromtx' de Numpy.  \n",
    "Para poder realizar los análisis fue necesario separar los datos de la tabla original en dos grupos: galaxias elípticas y espirales y ésto se realizó con ayuda de np.where. Luego se procedió con las actividades. \n"
   ]
  },
  {
   "cell_type": "code",
   "execution_count": 1,
   "metadata": {},
   "outputs": [],
   "source": [
    "#Primero se importan las librerías necesarias para trabajar\n",
    "import numpy as np\n",
    "import matplotlib.pyplot as plt\n",
    "import random\n",
    "import math\n",
    "import seaborn as sns          \n",
    "sns.set()         \n",
    "import scipy.stats \n"
   ]
  },
  {
   "cell_type": "code",
   "execution_count": 2,
   "metadata": {},
   "outputs": [],
   "source": [
    "data = np.genfromtxt('muestra1_MartinaTapia.csv',delimiter=',', skip_header = 1)"
   ]
  },
  {
   "cell_type": "code",
   "execution_count": 3,
   "metadata": {},
   "outputs": [
    {
     "data": {
      "text/plain": [
       "779"
      ]
     },
     "execution_count": 3,
     "metadata": {},
     "output_type": "execute_result"
    }
   ],
   "source": [
    "#Se analiza cuales son las filas que tienen en la columna 1 (spiral) un 1 \n",
    "fes = np.where(data[:,1]==1)[0]   \n",
    "len(fes)  "
   ]
  },
  {
   "cell_type": "code",
   "execution_count": 4,
   "metadata": {},
   "outputs": [],
   "source": [
    "# Se separan los datos originales en un nuevo array que contiene todos los datos de las galaxias espirales y lo llamo sp\n",
    "sp = data[fes, :]\n",
    "#sp[0:10]"
   ]
  },
  {
   "cell_type": "code",
   "execution_count": 5,
   "metadata": {},
   "outputs": [
    {
     "data": {
      "text/plain": [
       "221"
      ]
     },
     "execution_count": 5,
     "metadata": {},
     "output_type": "execute_result"
    }
   ],
   "source": [
    "# Se realiza el mismo procedimiento anterior para las galaxias elípticas \n",
    "feli = np.where(data[:,2]==1)[0]\n",
    "elip = data[feli, :]\n",
    "len(elip)"
   ]
  },
  {
   "cell_type": "markdown",
   "metadata": {},
   "source": [
    "## Actividad 1 ##"
   ]
  },
  {
   "cell_type": "markdown",
   "metadata": {},
   "source": [
    "En la primer actividad con los datos de las galaxias obtenidos es estudiar la distribución de índices de color g-r y u-g para galaxias. Además, se queire determinar si para ambos casos las distribuciones son consistentes. Es decir se quiere ver si las galaxias elípticas y espirales son del mismo color o no. "
   ]
  },
  {
   "cell_type": "code",
   "execution_count": 6,
   "metadata": {},
   "outputs": [],
   "source": [
    "#Indices de color para las espirales \n",
    "id_sp_gr = sp[:,5] - sp[:,4]\n",
    "id_sp_ug = sp[:,3] - sp[:,5]"
   ]
  },
  {
   "cell_type": "code",
   "execution_count": 7,
   "metadata": {},
   "outputs": [],
   "source": [
    "#Indices de color para elipticas \n",
    "id_elip_gr = elip[:,5] - elip[:,4]\n",
    "id_elip_ug = elip[:,3] - elip[:,5]"
   ]
  },
  {
   "cell_type": "code",
   "execution_count": 9,
   "metadata": {},
   "outputs": [
    {
     "data": {
      "image/png": "[encoded data removed]",
      "text/plain": [
       "<Figure size 432x288 with 1 Axes>"
      ]
     },
     "metadata": {},
     "output_type": "display_data"
    }
   ],
   "source": [
    "# Se grafica la Distribución del índdice de color u-g para los dos tipos galácticos.\n",
    "\n",
    "plt.title('Distribución del índice de color u-g para galaxias Elípticas y Espirales')\n",
    "plt.xlabel('Índice u-g')\n",
    "plt.ylabel('Frecuencias')\n",
    "plt.xlim(0,3)\n",
    "plt.hist(id_elip_ug, bins=np.linspace(0,2.0,15), alpha=0.5, label='u-g', color = 'greenyellow')\n",
    "plt.hist(id_sp_ug, bins=np.linspace(0,2.0,15),alpha=0.5,label='g-r')\n",
    "plt.show()"
   ]
  },
  {
   "cell_type": "code",
   "execution_count": 10,
   "metadata": {},
   "outputs": [
    {
     "data": {
      "image/png": "[encoded data removed]",
      "text/plain": [
       "<Figure size 432x288 with 1 Axes>"
      ]
     },
     "metadata": {},
     "output_type": "display_data"
    }
   ],
   "source": [
    "# Se grafica la Distribución del índdice de color g-r para los dos tipos galácticos.\n",
    "\n",
    "plt.title('Distribución del índice de color g-r para galaxias Elípticas y Espirales')\n",
    "plt.xlabel('Índice g-r')\n",
    "plt.ylabel('Frecuencias')\n",
    "heli = plt.hist(id_elip_gr, bins=np.linspace(0, 2.0,11), alpha=0.5, label='u-g', color = 'greenyellow')\n",
    "hsp = plt.hist(id_sp_gr, bins=np.linspace(0, 2.0,11), alpha=0.5, label='g-r')\n",
    "plt.show()"
   ]
  },
  {
   "cell_type": "markdown",
   "metadata": {},
   "source": [
    "### Método de Kolmogorov-Smirnov ###  \n",
    "\n",
    "Si se considera el caso donde las propiedades estadísticas de una muestra obtenidas a partir de experimentos repetidos usando variables aleatorias continuas, se quiere comparar con una función distribución de probabilidades $ F_{X} $. Uno podría, en principio, comparar un histograma y su correspondiente distribución de probabilidades bineada usando el método de chi-cuadrado. Desafortunadamente, el bineado es artificial y tiene gran influencia en los resultados. Consecuentemente, el método KS es más útil ya que no requiere de ningún bineado.  \n",
    "\n",
    "El método compara funciones distribución $ F_{X} $ con funciones de distribución empíricas $ F_{\\hat{X}} $ . Uno podría elegir diferentes maneras para comparar las distribuciones, por ejemplo, calcular el área entre las curvas $ F_{X} $ y $ F_{\\hat{X}} $. El método KS eligió una simple medición: definir el valor máximo del modulo de la diferencia entre dos funciones de distribución acumuladas. Es decir, el estadístico es:\n",
    "\n",
    "$$ d_{máx} = máx_{-\\infty < x < \\infty} |{F_{X}(x) − F_{\\hat{X}}(x)}|  $$  \n",
    "\n",
    "Así mismo, si se quiesieran comparar dos distribuciones acumuladas observadas, el estadístico sería:  \n",
    "\n",
    "$$ d_{máx} = máx_{-\\infty < x < \\infty} |{F_{\\hat{X_1}}(x) − F_{\\hat{X_2}}(x)}|  $$  \n",
    "\n",
    "Lo que hace útil al método KS es que su distribución, en el caso de la hipótesis nula (datos extraídos de la misma distribución), puede ser calculada, al menos una aproximación,dando la significación de cualquier valor distinto de cero para dmax.  \n",
    "Una característica del método KS es que es invariante bajo reparametrizaciones de la variable x, es decir, se puede comprimir o o alargar el eje x, y la distancia máxima permanecera invariante.   \n",
    "La bondad del método KS se construye usando un valor crítico. Por lo tanto, la hipótesis nula es rechazada a nivel $\\alpha $ si  \n",
    "\n",
    "$$ d^{observ} _{max} > d^{\\alpha}_{max} $$\n",
    "\n",
    "donde $ d^{\\alpha}_{max} $ se encuentra a patir de:  \n",
    "\n",
    "$$ P(d_{max} \\leq d^{\\alpha}_{max}) = 1 − \\alpha $$  \n",
    "\n",
    "Además, los valores de $d^{\\alpha}_{max}$ se extraen a partir de tablas.  \n",
    "\n",
    "Se procederá ahora a utililizar el método KS para comparar las distribuciones de los índices de color 'u-g' y 'g-r' de las galaxias elipticas y espirales.\n"
   ]
  },
  {
   "cell_type": "markdown",
   "metadata": {},
   "source": [
    "### Aplicación del método ###"
   ]
  },
  {
   "cell_type": "markdown",
   "metadata": {},
   "source": [
    "Primero se plantearán las hipótesis, el desarrollo vale para los dos conjuntos de datos, indice 'u-g' y 'g-r'. \n",
    "\n",
    "$ H_{0}: $ No hay diferencias entre la distribuciones de índice de color para galaxias elípticas y espirales.  \n",
    "\n",
    "$ H_{a}: $ Los valores observados de las frecuencias de los índices de color son diferentes para las galaxias elípticas y espirales  \n",
    "\n",
    "Luego, se determina el Nivel de significación o confianza para realizar la prueba: $\\alpha =$ 0,05  \n",
    "\n",
    "- Zona de aceptación: Para todo valor de probabilidad mayor que 0.05, se acepta $ H_{0} $ y se rechaza $H_{a}$.\n",
    "- Zona de rechazo: Para todo valor de probabilidad menor que 0.05, se rechaza $ H_{0} $ y se acepta $H_{a}$.  \n",
    "\n",
    "Para la aplicación de la prueba estadística se utilizará la función 'ks_2samp' de scipy.stats. La función, calcula el estadístico Kolmogorov-Smirnov en 2 muestras. Es una prueba de dos caras para la hipótesis nula de que 2 muestras independientes se extraen de la misma distribución continua. La hipótesis alternativa puede ser 'bilateral' (predeterminado), 'menor' o 'mayor'.  \n",
    "Lo que devuelve esta ks es el estadístico de prueba 'KS' ( $d^{observ} _{max}$ ) y además el 'valor de p'.  \n",
    "\n",
    "Una vez obtenido el valor de **p** para cada grupo de datos, es decir para la distribuciones 'u-g' y las distribuciones 'g-r', se compara el mismo con el valor de $\\alpha$ y se decide la conclusión correspondiente en cada caso.  \n",
    "\n",
    "A continuación se realizarán los cálculos: "
   ]
  },
  {
   "cell_type": "code",
   "execution_count": 11,
   "metadata": {},
   "outputs": [],
   "source": [
    "#Nivel de confianza para el análisis\n",
    "\n",
    "a = 0.05"
   ]
  },
  {
   "cell_type": "code",
   "execution_count": 12,
   "metadata": {},
   "outputs": [],
   "source": [
    "#Para el índice de color 'u-g' se tiene que: \n",
    "\n",
    "KS_ug, p_ug = scipy.stats.ks_2samp(id_elip_ug, id_sp_ug)"
   ]
  },
  {
   "cell_type": "code",
   "execution_count": 13,
   "metadata": {},
   "outputs": [
    {
     "data": {
      "text/plain": [
       "(0.45629911883781854, 2.9713649935374405e-33)"
      ]
     },
     "execution_count": 13,
     "metadata": {},
     "output_type": "execute_result"
    }
   ],
   "source": [
    "#Se visualizan los valores obtenidos\n",
    "KS_ug, p_ug"
   ]
  },
  {
   "cell_type": "code",
   "execution_count": 14,
   "metadata": {},
   "outputs": [],
   "source": [
    "#Para el índice de color 'g-r' se tiene que: \n",
    "\n",
    "KS_gr, p_gr = scipy.stats.ks_2samp(id_elip_gr, id_sp_gr)"
   ]
  },
  {
   "cell_type": "code",
   "execution_count": 15,
   "metadata": {},
   "outputs": [
    {
     "data": {
      "text/plain": [
       "(0.5958677733955239, 7.8255084214824425e-59)"
      ]
     },
     "execution_count": 15,
     "metadata": {},
     "output_type": "execute_result"
    }
   ],
   "source": [
    "#Se visualizan los valores obtenidos\n",
    "KS_gr, p_gr"
   ]
  },
  {
   "cell_type": "code",
   "execution_count": 16,
   "metadata": {},
   "outputs": [
    {
     "data": {
      "text/plain": [
       "True"
      ]
     },
     "execution_count": 16,
     "metadata": {},
     "output_type": "execute_result"
    }
   ],
   "source": [
    "# Ahora se realiza la comparación de cada valor p con alfa \n",
    "\n",
    "p_ug <  0.05"
   ]
  },
  {
   "cell_type": "code",
   "execution_count": 17,
   "metadata": {},
   "outputs": [
    {
     "data": {
      "text/plain": [
       "True"
      ]
     },
     "execution_count": 17,
     "metadata": {},
     "output_type": "execute_result"
    }
   ],
   "source": [
    "p_gr < 0.05"
   ]
  },
  {
   "cell_type": "markdown",
   "metadata": {},
   "source": [
    "### Conclusiones ###\n",
    "Finalmente se verifica que los valores de p, tanto para el índice de color u-g como para el índice de color g-r, son menores que el nivel de significancia $\\alpha$. Es decir que se rechaza la $H_{0}$ en ambos casos a favor de la $H_{a}$.  \n",
    "Con esta prueba se verifica que las galaxias elipticas y espirales no son del mismo color con un nivel de confianza del 95%.  \n",
    "Además de los histogramas realizados en el principio del análisis, se puede ver que las galaxias elípticas tienen valores de u-g y g-r mayores que los de las galaxias espirales lo que quiere decir que su color es en general hacia el rojo. Mientras que con las galaxias espirales pasa lo contrario y parecen ser más azules. "
   ]
  }
 ],
 "metadata": {
  "kernelspec": {
   "display_name": "Python 3",
   "language": "python",
   "name": "python3"
  },
  "language_info": {
   "codemirror_mode": {
    "name": "ipython",
    "version": 3
   },
   "file_extension": ".py",
   "mimetype": "text/x-python",
   "name": "python",
   "nbconvert_exporter": "python",
   "pygments_lexer": "ipython3",
   "version": "3.8.3"
  }
 },
 "nbformat": 4,
 "nbformat_minor": 4
}
